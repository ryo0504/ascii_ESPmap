{
 "cells": [
  {
   "cell_type": "code",
   "execution_count": null,
   "id": "e736e972-ed06-483d-8bcd-dcfc383b6a6e",
   "metadata": {},
   "outputs": [],
   "source": []
  },
  {
   "cell_type": "code",
   "execution_count": 68,
   "id": "2cdcd009-8cda-4739-990c-7eb5ed115f85",
   "metadata": {},
   "outputs": [],
   "source": [
    "\n",
    "def convert_S_to_C(s_values):\n",
    "    ord_list = []\n",
    "    for s in s_values:\n",
    "        ord_s = ord(s)\n",
    "        if ord_s == 33:\n",
    "            ord_s = 92\n",
    "        ord_list.append(ord_s)\n",
    "    return ord_list\n",
    "    \n",
    "def convert_C_to_S(c_list):\n",
    "    chr_list = []\n",
    "    for c in c_list:\n",
    "        if c == 92:\n",
    "            c = 33 # replace \"\\\" with \"!\"\n",
    "        resut = chr(c)\n",
    "        chr_list.append(resut)\n",
    "        mchr_list = ''.join(chr_list)\n",
    "    return mchr_list"
   ]
  },
  {
   "cell_type": "code",
   "execution_count": 69,
   "id": "8e42cd94-a7d9-4bc8-8bb2-4a9f5bc2f0cf",
   "metadata": {},
   "outputs": [
    {
     "data": {
      "text/plain": [
       "True"
      ]
     },
     "execution_count": 69,
     "metadata": {},
     "output_type": "execute_result"
    }
   ],
   "source": [
    "s_test = \"cba!ZYZXQQRPVTSRRPPPSQVT\"\n",
    "test = convert_S_to_C(s_test)\n",
    "s_test == convert_C_to_S(test)"
   ]
  },
  {
   "cell_type": "code",
   "execution_count": null,
   "id": "487b48ec-e28c-4535-b8f0-960781988085",
   "metadata": {},
   "outputs": [],
   "source": []
  }
 ],
 "metadata": {
  "kernelspec": {
   "display_name": "Python 3",
   "language": "python",
   "name": "python3"
  },
  "language_info": {
   "codemirror_mode": {
    "name": "ipython",
    "version": 3
   },
   "file_extension": ".py",
   "mimetype": "text/x-python",
   "name": "python",
   "nbconvert_exporter": "python",
   "pygments_lexer": "ipython3",
   "version": "3.8.8"
  }
 },
 "nbformat": 4,
 "nbformat_minor": 5
}
