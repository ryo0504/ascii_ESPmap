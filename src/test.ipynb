{
 "cells": [
  {
   "cell_type": "code",
   "execution_count": 68,
   "id": "677d17b8-fbf1-4c2a-b7de-f0335886ece5",
   "metadata": {},
   "outputs": [
    {
     "name": "stdout",
     "output_type": "stream",
     "text": [
      "5028 5028\n"
     ]
    }
   ],
   "source": [
    "\n",
    "int_list = []\n",
    "ex_list = []\n",
    "\n",
    "output_txt_name = \"\"\n",
    "\n",
    "\n",
    "print(len(int_list), len(ex_list))\n",
    "\n"
   ]
  },
  {
   "cell_type": "code",
   "execution_count": 69,
   "id": "df45b13d-0a17-40ee-92f5-8d3467edd808",
   "metadata": {},
   "outputs": [],
   "source": [
    "\n",
    "import pandas as pd\n",
    "\n",
    "# int_df = pd.DataFrame(int_list)\n",
    "# ex_df = pd.DataFrame(ex_list)\n",
    "\n",
    "result_list = []\n",
    "\n",
    "for i in range(len(int_list)):\n",
    "    result_list.append(int_list[i] * ex_list[i])\n",
    "\n",
    "# print(result_list, len(result_list), max(result_list), min(result_list))\n",
    "with open(output_txt_name, \"w\") as f:\n",
    "    f.write(\"overlap_max = \" + str(max(result_list)) + \"       overlap_min = \" + str(min(result_list)))\n",
    "    f.write(\"\\n\\n\\n\\n\\n\\n\")\n",
    "    f.write(\"overlap = \" + str(result_list))\n",
    "    f.write(\"\\n\\n\\n\\n\\n\\n\")\n",
    "    f.write(\"int_list = \" + str(int_list))\n",
    "    f.write(\"\\n\\n\\n\\n\\n\\n\")\n",
    "    f.write(\"ex_list = \" + str(ex_list))\n",
    "    "
   ]
  },
  {
   "cell_type": "code",
   "execution_count": 70,
   "id": "b197e8ca-655f-4abd-b79e-495445dfc8eb",
   "metadata": {},
   "outputs": [
    {
     "data": {
      "image/png": "[encoded data removed]",
      "text/plain": [
       "<Figure size 576x72 with 2 Axes>"
      ]
     },
     "metadata": {
      "needs_background": "light"
     },
     "output_type": "display_data"
    }
   ],
   "source": [
    "import numpy as np\n",
    "import matplotlib.pyplot as plt\n",
    "import matplotlib.colors as colors\n",
    "\n",
    "color_bar_name = output_txt_name\n",
    "# Define the minimum, middle, and maximum value range\n",
    "vmin = min(result_list)\n",
    "vmax = max(result_list)\n",
    "vmid = (vmin + vmax)/2\n",
    "\n",
    "# Define the colormap as a gradient from blue to green to red\n",
    "# colormap = colors.LinearSegmentedColormap.from_list(\"\", [\"blue\", \"green\", \"red\"])\n",
    "colormap = plt.cm.jet\n",
    "\n",
    "# Create a linearly-spaced array of values between the minimum and maximum\n",
    "values = np.linspace(vmin, vmax, num=100)\n",
    "\n",
    "# Create a 2D array where each row is a copy of the value array\n",
    "# This is needed to create a 2D image of the color bar\n",
    "image = np.tile(values, (25, 1))\n",
    "\n",
    "# Create a figure and axes\n",
    "fig, ax = plt.subplots(figsize=(8, 1))\n",
    "\n",
    "# Use imshow to display the image\n",
    "# Set the extent of the image to match the value range\n",
    "# Set the aspect to \"auto\" to make sure the image isn't distorted\n",
    "im = ax.imshow(image, aspect=\"auto\", cmap=colormap, extent=(vmin, vmax, 0, 1))\n",
    "\n",
    "# Add colorbar\n",
    "cbar = plt.colorbar(im, orientation=\"horizontal\")\n",
    "cbar.set_label('Values')\n",
    "\n",
    "# Add labels for minimum, middle, and maximum values\n",
    "ax.text(vmin, 1.1, f\"{round(vmin, 6)}\", ha=\"left\", va=\"center\", fontsize=12)\n",
    "ax.text(vmid, 1.1, f\"{round(vmid, 6)}\", ha=\"center\", va=\"center\", fontsize=12)\n",
    "ax.text(vmax, 1.1, f\"{round(vmax, 6)}\", ha=\"right\", va=\"center\", fontsize=12)\n",
    "\n",
    "# Remove the axis ticks and labels\n",
    "ax.set_yticks([])\n",
    "ax.set_xticks([])\n",
    "ax.set_xticklabels([])\n",
    "ax.set_yticklabels([])\n",
    "\n",
    "# Save the figure as a PNG image\n",
    "plt.savefig(color_bar_name + \".png\", dpi=300, bbox_inches=\"tight\")\n"
   ]
  },
  {
   "cell_type": "code",
   "execution_count": 42,
   "id": "955ee988-3f60-475e-a1c2-cfbd5c11f850",
   "metadata": {},
   "outputs": [
    {
     "data": {
      "text/plain": [
       "0.002207"
      ]
     },
     "execution_count": 42,
     "metadata": {},
     "output_type": "execute_result"
    }
   ],
   "source": [
    "round(vmax, 6)"
   ]
  },
  {
   "cell_type": "code",
   "execution_count": 111,
   "id": "89a287a1-3c3d-4b4d-aa1b-9f5ccd9ae484",
   "metadata": {},
   "outputs": [
    {
     "name": "stdout",
     "output_type": "stream",
     "text": [
      "valueMappedToRed=\"-0.003321438461694113\"\n",
      "valueMappedToBlue=\"0.00023980897435817\"\n"
     ]
    }
   ],
   "source": [
    "color_bar_name = \"result/\" + \"a2_cis-keto\"\n",
    "dataMinimum=\"-0.006642876923388226\" \n",
    "dataMaximum=\"0.00047961794871634\" \n",
    "\n",
    "\n",
    "cutoff_Max = float(dataMaximum) * 0.5\n",
    "cutoff_Min = float(dataMinimum) * 0.5\n",
    "print('valueMappedToRed=\"{}\"'.format(str(cutoff_Min)))\n",
    "print('valueMappedToBlue=\"{}\"'.format(str(cutoff_Max)))\n"
   ]
  },
  {
   "cell_type": "code",
   "execution_count": 112,
   "id": "589afa87-24c2-47ab-a976-aef71e3810e5",
   "metadata": {},
   "outputs": [
    {
     "data": {
      "image/png": "[encoded data removed]",
      "text/plain": [
       "<Figure size 576x72 with 2 Axes>"
      ]
     },
     "metadata": {
      "needs_background": "light"
     },
     "output_type": "display_data"
    }
   ],
   "source": [
    "import numpy as np\n",
    "import matplotlib.pyplot as plt\n",
    "import matplotlib.colors as colors\n",
    "\n",
    "# color_bar_name = output_txt_name\n",
    "# Define the minimum, middle, and maximum value range\n",
    "vmin = cutoff_Min\n",
    "vmax = cutoff_Max\n",
    "vmid = (vmin + vmax)/2\n",
    "\n",
    "# Define the colormap as a gradient from blue to green to red\n",
    "# colormap = colors.LinearSegmentedColormap.from_list(\"\", [\"blue\", \"green\", \"red\"])\n",
    "colormap = plt.cm.jet\n",
    "\n",
    "# Create a linearly-spaced array of values between the minimum and maximum\n",
    "values = np.linspace(vmin, vmax, num=100)\n",
    "\n",
    "# Create a 2D array where each row is a copy of the value array\n",
    "# This is needed to create a 2D image of the color bar\n",
    "image = np.tile(values, (25, 1))\n",
    "\n",
    "# Create a figure and axes\n",
    "fig, ax = plt.subplots(figsize=(8, 1))\n",
    "\n",
    "# Use imshow to display the image\n",
    "# Set the extent of the image to match the value range\n",
    "# Set the aspect to \"auto\" to make sure the image isn't distorted\n",
    "im = ax.imshow(image, aspect=\"auto\", cmap=colormap, extent=(vmin, vmax, 0, 1))\n",
    "\n",
    "# Add colorbar\n",
    "cbar = plt.colorbar(im, orientation=\"horizontal\")\n",
    "cbar.set_label('Values')\n",
    "\n",
    "# Add labels for minimum, middle, and maximum values\n",
    "ax.text(vmin, 1.1, f\"{round(vmin, 6)}<\", ha=\"left\", va=\"center\", fontsize=12)\n",
    "ax.text(vmid, 1.1, f\"{round(vmid, 6)}\", ha=\"center\", va=\"center\", fontsize=12)\n",
    "ax.text(vmax, 1.1, f\"<{round(vmax, 6)}\", ha=\"right\", va=\"center\", fontsize=12)\n",
    "\n",
    "# Remove the axis ticks and labels\n",
    "ax.set_yticks([])\n",
    "ax.set_xticks([])\n",
    "ax.set_xticklabels([])\n",
    "ax.set_yticklabels([])\n",
    "\n",
    "# Save the figure as a PNG image\n",
    "plt.savefig(color_bar_name + \".png\", dpi=300, bbox_inches=\"tight\")\n"
   ]
  },
  {
   "cell_type": "code",
   "execution_count": null,
   "id": "11c4ca3e-de0e-4436-bc3f-1f1b0f6989a8",
   "metadata": {},
   "outputs": [],
   "source": []
  }
 ],
 "metadata": {
  "kernelspec": {
   "display_name": "Python 3",
   "language": "python",
   "name": "python3"
  },
  "language_info": {
   "codemirror_mode": {
    "name": "ipython",
    "version": 3
   },
   "file_extension": ".py",
   "mimetype": "text/x-python",
   "name": "python",
   "nbconvert_exporter": "python",
   "pygments_lexer": "ipython3",
   "version": "3.8.8"
  }
 },
 "nbformat": 4,
 "nbformat_minor": 5
}
